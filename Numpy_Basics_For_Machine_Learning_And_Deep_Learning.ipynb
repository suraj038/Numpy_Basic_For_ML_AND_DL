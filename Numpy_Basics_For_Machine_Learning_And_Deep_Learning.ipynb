{
  "nbformat": 4,
  "nbformat_minor": 0,
  "metadata": {
    "colab": {
      "name": "Numpy Basics For Machine Learning And Deep Learning.ipynb",
      "version": "0.3.2",
      "provenance": [],
      "collapsed_sections": []
    },
    "kernelspec": {
      "display_name": "Python 3",
      "language": "python",
      "name": "python3"
    }
  },
  "cells": [
    {
      "metadata": {
        "id": "S6VttTnc6i6d",
        "colab_type": "code",
        "colab": {}
      },
      "cell_type": "code",
      "source": [
        "# This Notebook Contains All Basic Numpy Operations\n",
        "import numpy as np"
      ],
      "execution_count": 0,
      "outputs": []
    },
    {
      "metadata": {
        "id": "0mAsSvEJ6i6i",
        "colab_type": "code",
        "colab": {}
      },
      "cell_type": "code",
      "source": [
        "# array in numpy\n",
        "arr_1 = np.array([1,2,3,4,5,6])"
      ],
      "execution_count": 0,
      "outputs": []
    },
    {
      "metadata": {
        "id": "8C3I7kmmHTzU",
        "colab_type": "code",
        "outputId": "17bf2c6c-ff05-4d95-83e4-6a4cfc40723c",
        "colab": {
          "base_uri": "https://localhost:8080/",
          "height": 34
        }
      },
      "cell_type": "code",
      "source": [
        "type(arr_1)"
      ],
      "execution_count": 0,
      "outputs": [
        {
          "output_type": "execute_result",
          "data": {
            "text/plain": [
              "numpy.ndarray"
            ]
          },
          "metadata": {
            "tags": []
          },
          "execution_count": 4
        }
      ]
    },
    {
      "metadata": {
        "id": "fc22MpLf6i6n",
        "colab_type": "code",
        "outputId": "64eaea35-d31d-49f7-d1cb-f299f644678d",
        "colab": {}
      },
      "cell_type": "code",
      "source": [
        "print(arr_1.shape)\n",
        "print(type(arr_1))"
      ],
      "execution_count": 0,
      "outputs": [
        {
          "output_type": "stream",
          "text": [
            "(6,)\n",
            "<class 'numpy.ndarray'>\n"
          ],
          "name": "stdout"
        }
      ]
    },
    {
      "metadata": {
        "id": "6KDeKm3iHkzU",
        "colab_type": "code",
        "outputId": "72c2fb52-71ce-48cd-ca90-ae48c2771937",
        "colab": {
          "base_uri": "https://localhost:8080/",
          "height": 34
        }
      },
      "cell_type": "code",
      "source": [
        "arr_1.shape"
      ],
      "execution_count": 0,
      "outputs": [
        {
          "output_type": "execute_result",
          "data": {
            "text/plain": [
              "(6,)"
            ]
          },
          "metadata": {
            "tags": []
          },
          "execution_count": 5
        }
      ]
    },
    {
      "metadata": {
        "id": "_5e0Lvi56i6t",
        "colab_type": "code",
        "colab": {}
      },
      "cell_type": "code",
      "source": [
        "# difference between lists and numpy array\n",
        "list_1 = [1,2,3,4,5,6]"
      ],
      "execution_count": 0,
      "outputs": []
    },
    {
      "metadata": {
        "id": "Hkmzu-w36i6w",
        "colab_type": "code",
        "outputId": "4c57d9a6-a154-465e-c4c7-5d395cfd1abb",
        "colab": {}
      },
      "cell_type": "code",
      "source": [
        "print(type(list_1))\n",
        "print(type(arr_1))"
      ],
      "execution_count": 0,
      "outputs": [
        {
          "output_type": "stream",
          "text": [
            "<class 'list'>\n",
            "<class 'numpy.ndarray'>\n"
          ],
          "name": "stdout"
        }
      ]
    },
    {
      "metadata": {
        "id": "S0VUZ-6v6i62",
        "colab_type": "code",
        "outputId": "67a7e78d-3e77-485f-b08d-961023b244a3",
        "colab": {}
      },
      "cell_type": "code",
      "source": [
        "print(arr_1)\n",
        "print(list_1)"
      ],
      "execution_count": 0,
      "outputs": [
        {
          "output_type": "stream",
          "text": [
            "[1 2 3 4 5 6]\n",
            "[1, 2, 3, 4, 5, 6]\n"
          ],
          "name": "stdout"
        }
      ]
    },
    {
      "metadata": {
        "id": "-cz0Y_T66i67",
        "colab_type": "text"
      },
      "cell_type": "markdown",
      "source": [
        "+ Array Always Contains Same Kind Of Data Type\n",
        "+ Array Always able to perform matrix operation\n",
        "+ In deep learning these array reprsents matrix for matrix mainuplation\n",
        "+ Array reprsents something like this [1 2 3 4 5 6 7]"
      ]
    },
    {
      "metadata": {
        "id": "hB5rnPq26i67",
        "colab_type": "code",
        "colab": {}
      },
      "cell_type": "code",
      "source": [
        "# matrix operations\n",
        "arr_1 = np.array([2,4,8])\n",
        "arr_2 = np.array([3,9,27])"
      ],
      "execution_count": 0,
      "outputs": []
    },
    {
      "metadata": {
        "id": "4IGkITaG6i6-",
        "colab_type": "code",
        "outputId": "4aabb8a7-ebe0-41ff-bc98-3518b6087136",
        "colab": {}
      },
      "cell_type": "code",
      "source": [
        "## Add\n",
        "print(arr_1+arr_2)"
      ],
      "execution_count": 0,
      "outputs": [
        {
          "output_type": "stream",
          "text": [
            "[ 5 13 35]\n"
          ],
          "name": "stdout"
        }
      ]
    },
    {
      "metadata": {
        "id": "gzjvZ30x6i7D",
        "colab_type": "code",
        "outputId": "c7f736f5-32c4-43be-f1f3-cdb50e3f11e8",
        "colab": {}
      },
      "cell_type": "code",
      "source": [
        "## subtract\n",
        "print(arr_2-arr_1)"
      ],
      "execution_count": 0,
      "outputs": [
        {
          "output_type": "stream",
          "text": [
            "[ 1  5 19]\n"
          ],
          "name": "stdout"
        }
      ]
    },
    {
      "metadata": {
        "id": "9GElK9Ji6i7I",
        "colab_type": "code",
        "outputId": "4d64dd2c-d97f-4f1f-d2d0-2187be081eb2",
        "colab": {}
      },
      "cell_type": "code",
      "source": [
        "## multiplication and others\n",
        "print(arr_1*arr_2)\n",
        "\n",
        "print(arr_1/arr_2)\n",
        "\n",
        "print(arr_2//arr_1)\n",
        "\n",
        "print(arr_2%arr_1)"
      ],
      "execution_count": 0,
      "outputs": [
        {
          "output_type": "stream",
          "text": [
            "[  6  36 216]\n",
            "[0.66666667 0.44444444 0.2962963 ]\n",
            "[1 2 3]\n",
            "[1 1 3]\n"
          ],
          "name": "stdout"
        }
      ]
    },
    {
      "metadata": {
        "id": "7U2UfzSu6i7M",
        "colab_type": "code",
        "outputId": "718e853f-015a-41f3-cb79-6d66bef8da08",
        "colab": {}
      },
      "cell_type": "code",
      "source": [
        "# Array as true false \n",
        "arr_1>0"
      ],
      "execution_count": 0,
      "outputs": [
        {
          "output_type": "execute_result",
          "data": {
            "text/plain": [
              "array([ True,  True,  True])"
            ]
          },
          "metadata": {
            "tags": []
          },
          "execution_count": 15
        }
      ]
    },
    {
      "metadata": {
        "id": "sd0YFgLS6i7Q",
        "colab_type": "code",
        "outputId": "1132da4c-614a-42ac-d85b-75e9eb3f5c18",
        "colab": {}
      },
      "cell_type": "code",
      "source": [
        "# Print those elements of arr_1 which are greater then 2\n",
        "arr_1[arr_1>2]"
      ],
      "execution_count": 0,
      "outputs": [
        {
          "output_type": "execute_result",
          "data": {
            "text/plain": [
              "array([4, 8])"
            ]
          },
          "metadata": {
            "tags": []
          },
          "execution_count": 18
        }
      ]
    },
    {
      "metadata": {
        "id": "oQ31J1gk6i7U",
        "colab_type": "code",
        "outputId": "cc3fa1fe-ee65-4849-8e33-483d9b533fef",
        "colab": {}
      },
      "cell_type": "code",
      "source": [
        "# Print those elements of arr_2 which are greater then elements of arr_1\n",
        "arr_2[arr_2>arr_1]"
      ],
      "execution_count": 0,
      "outputs": [
        {
          "output_type": "execute_result",
          "data": {
            "text/plain": [
              "array([ 3,  9, 27])"
            ]
          },
          "metadata": {
            "tags": []
          },
          "execution_count": 19
        }
      ]
    },
    {
      "metadata": {
        "id": "4TvtVqkL6i7X",
        "colab_type": "code",
        "outputId": "1897fb2e-bd02-4038-9dd3-83c5dc576a95",
        "colab": {}
      },
      "cell_type": "code",
      "source": [
        "# Print those elements of arr_2 which are devisible by 9\n",
        "arr_2[arr_2%9==0]"
      ],
      "execution_count": 0,
      "outputs": [
        {
          "output_type": "execute_result",
          "data": {
            "text/plain": [
              "array([ 9, 27])"
            ]
          },
          "metadata": {
            "tags": []
          },
          "execution_count": 28
        }
      ]
    },
    {
      "metadata": {
        "id": "q88uu9iv6i7e",
        "colab_type": "code",
        "colab": {}
      },
      "cell_type": "code",
      "source": [
        "# Multidimensional Array\n",
        "muArr_1 = np.array([[1,2,3],[4,5,6],[7,8,9]],dtype='int64')\n",
        "muArr_2 = np.array([[11,12,13],[14,15,16],[17,18,19]],dtype='int16')"
      ],
      "execution_count": 0,
      "outputs": []
    },
    {
      "metadata": {
        "id": "R0oFQswt6i7j",
        "colab_type": "code",
        "outputId": "a187cb48-932f-47f9-be2b-299aa00eaaba",
        "colab": {}
      },
      "cell_type": "code",
      "source": [
        "# Matrix Operation And Array Analysis\n",
        "print(muArr_1.shape)\n",
        "\n",
        "print(muArr_2.shape)\n",
        "\n",
        "print(type(muArr_1))\n",
        "\n",
        "print(type(muArr_2))"
      ],
      "execution_count": 0,
      "outputs": [
        {
          "output_type": "stream",
          "text": [
            "(3, 3)\n",
            "(3, 3)\n",
            "<class 'numpy.ndarray'>\n",
            "<class 'numpy.ndarray'>\n"
          ],
          "name": "stdout"
        }
      ]
    },
    {
      "metadata": {
        "id": "rTtqU5sR6i7p",
        "colab_type": "code",
        "outputId": "55e7266f-5fb3-4714-9f68-c9a82e264034",
        "colab": {}
      },
      "cell_type": "code",
      "source": [
        "# Add\n",
        "print(muArr_1+muArr_2)\n",
        "\n",
        "# Subtract\n",
        "print(muArr_1-muArr_2)\n",
        "\n",
        "# Multiply\n",
        "print(muArr_1*muArr_2)\n",
        "\n",
        "# Devide\n",
        "print(muArr_1/muArr_2)"
      ],
      "execution_count": 0,
      "outputs": [
        {
          "output_type": "stream",
          "text": [
            "[[12 14 16]\n",
            " [18 20 22]\n",
            " [24 26 28]]\n",
            "[[-10 -10 -10]\n",
            " [-10 -10 -10]\n",
            " [-10 -10 -10]]\n",
            "[[ 11  24  39]\n",
            " [ 56  75  96]\n",
            " [119 144 171]]\n",
            "[[0.09090909 0.16666667 0.23076923]\n",
            " [0.28571429 0.33333333 0.375     ]\n",
            " [0.41176471 0.44444444 0.47368421]]\n"
          ],
          "name": "stdout"
        }
      ]
    },
    {
      "metadata": {
        "id": "RWmdUdHA6i7v",
        "colab_type": "code",
        "outputId": "741eadf6-13e5-44f1-be02-f56867eda8da",
        "colab": {}
      },
      "cell_type": "code",
      "source": [
        "# Array Slicing And Indexing\n",
        "\n",
        "# Access arr_1 first two elements\n",
        "print(arr_1[:2])\n",
        "\n",
        "# Access arr_2 last two elements\n",
        "print(arr_2[1:])\n",
        "\n",
        "# Access muArr_1 last two rows\n",
        "print(muArr_1[1:])\n",
        "\n",
        "# Access muArr_2 first two rows\n",
        "print(muArr_2[:2])"
      ],
      "execution_count": 0,
      "outputs": [
        {
          "output_type": "stream",
          "text": [
            "[2 4]\n",
            "[ 9 27]\n",
            "[[4 5 6]\n",
            " [7 8 9]]\n",
            "[[11 12 13]\n",
            " [14 15 16]]\n"
          ],
          "name": "stdout"
        }
      ]
    },
    {
      "metadata": {
        "id": "xt3wDSoH6i7z",
        "colab_type": "code",
        "outputId": "20bdcf56-cc90-4cc7-b482-1caf98a23d33",
        "colab": {}
      },
      "cell_type": "code",
      "source": [
        "# Write Slicing expression to print 5 from muArr_1\n",
        "print(muArr_1[1][1])\n",
        "\n",
        "print(muArr_1[1,1])\n",
        "\n",
        "# Write Slicing expression to print 18 from muArr_2\n",
        "print(muArr_2[2][1])\n",
        "\n",
        "print(muArr_2[2,1])"
      ],
      "execution_count": 0,
      "outputs": [
        {
          "output_type": "stream",
          "text": [
            "5\n",
            "5\n",
            "18\n",
            "18\n"
          ],
          "name": "stdout"
        }
      ]
    },
    {
      "metadata": {
        "id": "B20OENAD6i72",
        "colab_type": "code",
        "outputId": "33a65c5f-0284-47a8-9956-a5fde32e4fd2",
        "colab": {}
      },
      "cell_type": "code",
      "source": [
        "# Print 2nd column from muArr_1\n",
        "print(muArr_1[:,1])\n",
        "\n",
        "# Print 1st column from muArr_2\n",
        "print(muArr_2[:][1])"
      ],
      "execution_count": 0,
      "outputs": [
        {
          "output_type": "stream",
          "text": [
            "[2 5 8]\n",
            "[14 15 16]\n"
          ],
          "name": "stdout"
        }
      ]
    },
    {
      "metadata": {
        "id": "pUXeaINT6i78",
        "colab_type": "code",
        "colab": {}
      },
      "cell_type": "code",
      "source": [
        "# Array Reassignment\n",
        "arr_1[1] = 0\n",
        "arr_2[2] = 19"
      ],
      "execution_count": 0,
      "outputs": []
    },
    {
      "metadata": {
        "id": "Xs-QMwHK6i7-",
        "colab_type": "code",
        "outputId": "18cd6749-9bc1-402f-e5c3-9d35ab31c8c7",
        "colab": {}
      },
      "cell_type": "code",
      "source": [
        "print(arr_1)\n",
        "print(arr_2)"
      ],
      "execution_count": 0,
      "outputs": [
        {
          "output_type": "stream",
          "text": [
            "[2 0 8]\n",
            "[ 3  9 19]\n"
          ],
          "name": "stdout"
        }
      ]
    },
    {
      "metadata": {
        "id": "ppBe7yYT6i8B",
        "colab_type": "code",
        "outputId": "f873dc9e-566f-454e-8ac1-37bb3a368a1d",
        "colab": {}
      },
      "cell_type": "code",
      "source": [
        "# Numpy Built-in Fxns And Operations\n",
        "\n",
        "# Range Function in array\n",
        "arr_3 = np.arange(10,21,2)\n",
        "print(arr_3)\n",
        "print(type(arr_3))"
      ],
      "execution_count": 0,
      "outputs": [
        {
          "output_type": "stream",
          "text": [
            "[10 12 14 16 18 20]\n",
            "<class 'numpy.ndarray'>\n"
          ],
          "name": "stdout"
        }
      ]
    },
    {
      "metadata": {
        "id": "IPgngW6_6i8E",
        "colab_type": "code",
        "outputId": "3ee9e65a-ee33-47ff-f390-82ff9a03128b",
        "colab": {}
      },
      "cell_type": "code",
      "source": [
        "# Print Identity matrix of order 6*6\n",
        "\n",
        "id_matrix=np.identity(6)\n",
        "print(id_matrix)"
      ],
      "execution_count": 0,
      "outputs": [
        {
          "output_type": "stream",
          "text": [
            "[[1. 0. 0. 0. 0. 0.]\n",
            " [0. 1. 0. 0. 0. 0.]\n",
            " [0. 0. 1. 0. 0. 0.]\n",
            " [0. 0. 0. 1. 0. 0.]\n",
            " [0. 0. 0. 0. 1. 0.]\n",
            " [0. 0. 0. 0. 0. 1.]]\n"
          ],
          "name": "stdout"
        }
      ]
    },
    {
      "metadata": {
        "id": "1sMjxMOh6i8H",
        "colab_type": "code",
        "outputId": "463ee9f9-91fb-4620-aeeb-d70a5f9ea26d",
        "colab": {}
      },
      "cell_type": "code",
      "source": [
        "# Create an array of all zeros\n",
        "\n",
        "zero_arr = np.zeros([2,3])\n",
        "print(zero_arr)"
      ],
      "execution_count": 0,
      "outputs": [
        {
          "output_type": "stream",
          "text": [
            "[[0. 0. 0.]\n",
            " [0. 0. 0.]]\n"
          ],
          "name": "stdout"
        }
      ]
    },
    {
      "metadata": {
        "id": "SZ6PBxdr6i8L",
        "colab_type": "code",
        "outputId": "99938998-a874-429f-dd15-8e9a376b7f68",
        "colab": {}
      },
      "cell_type": "code",
      "source": [
        "# Array Resizing\n",
        "\n",
        "re_arr = np.resize(zero_arr,[3,2])\n",
        "print(re_arr)"
      ],
      "execution_count": 0,
      "outputs": [
        {
          "output_type": "stream",
          "text": [
            "[[0. 0.]\n",
            " [0. 0.]\n",
            " [0. 0.]]\n"
          ],
          "name": "stdout"
        }
      ]
    },
    {
      "metadata": {
        "id": "XQmP9ExX6i8O",
        "colab_type": "code",
        "outputId": "7b3d627c-ecdb-4069-d542-54fbf2655d73",
        "colab": {}
      },
      "cell_type": "code",
      "source": [
        "# Array Reshaping\n",
        "\n",
        "reshape_arr = np.reshape(zero_arr,[1,6])\n",
        "print(reshape_arr)"
      ],
      "execution_count": 0,
      "outputs": [
        {
          "output_type": "stream",
          "text": [
            "[[0. 0. 0. 0. 0. 0.]]\n"
          ],
          "name": "stdout"
        }
      ]
    },
    {
      "metadata": {
        "id": "jGQMtV8F6i8R",
        "colab_type": "code",
        "outputId": "0125f612-50c6-4f0a-a408-e3a5eb8dbdfd",
        "colab": {}
      },
      "cell_type": "code",
      "source": [
        "# Find indices of non-zero elements from [1,0,1,0,3,0,4,6,7,0,9,0,0,0]\n",
        "\n",
        "non_zero = np.array([1,0,1,0,3,0,4,6,7,0,9,0,0,0])\n",
        "print(np.nonzero(non_zero))"
      ],
      "execution_count": 0,
      "outputs": [
        {
          "output_type": "stream",
          "text": [
            "(array([ 0,  2,  4,  6,  7,  8, 10]),)\n"
          ],
          "name": "stdout"
        }
      ]
    },
    {
      "metadata": {
        "id": "KlV9dteb6i8e",
        "colab_type": "code",
        "outputId": "b5473d0c-dcde-4543-a2eb-58af3978d2bb",
        "colab": {}
      },
      "cell_type": "code",
      "source": [
        "# Create a 3x3x4 array with random values\n",
        "\n",
        "R = np.random.random((3,3,4))\n",
        "print(R)"
      ],
      "execution_count": 0,
      "outputs": [
        {
          "output_type": "stream",
          "text": [
            "[[[0.93735306 0.0536313  0.49199918 0.59496317]\n",
            "  [0.50277269 0.71895663 0.14601311 0.8412276 ]\n",
            "  [0.26770108 0.96608135 0.16388517 0.16182858]]\n",
            "\n",
            " [[0.69207289 0.35749182 0.13414178 0.67659393]\n",
            "  [0.8181274  0.84804245 0.13179145 0.31953123]\n",
            "  [0.4136487  0.18656474 0.11813166 0.57401104]]\n",
            "\n",
            " [[0.19606099 0.76402682 0.63928486 0.16139194]\n",
            "  [0.17255524 0.3328685  0.09094356 0.90353698]\n",
            "  [0.64741795 0.96039613 0.28653818 0.75618619]]]\n"
          ],
          "name": "stdout"
        }
      ]
    },
    {
      "metadata": {
        "id": "oZCK2_r56i8h",
        "colab_type": "code",
        "colab": {}
      },
      "cell_type": "code",
      "source": [
        "# Mean Of Array R\n",
        "\n",
        "# Median Of Array R\n",
        "\n",
        "# Standard Deviation Of Array R\n",
        "\n",
        "# variance Of Array R\n",
        "mean = np.mean(R)\n",
        "median = np.median(R)\n",
        "std_dev = np.std(R)\n",
        "var = np.var(R)"
      ],
      "execution_count": 0,
      "outputs": []
    },
    {
      "metadata": {
        "id": "59n7m0gq6i8j",
        "colab_type": "code",
        "outputId": "510a8c3b-684f-4dfb-f018-46c0932f2f18",
        "colab": {}
      },
      "cell_type": "code",
      "source": [
        "print(mean)\n",
        "print(median)\n",
        "print(std_dev)\n",
        "print(var)"
      ],
      "execution_count": 0,
      "outputs": [
        {
          "output_type": "stream",
          "text": [
            "0.47299359353703174\n",
            "0.4528239420209515\n",
            "0.2952236574030208\n",
            "0.08715700789041621\n"
          ],
          "name": "stdout"
        }
      ]
    },
    {
      "metadata": {
        "id": "0mUVigbe6i8m",
        "colab_type": "code",
        "outputId": "2123e968-5155-4103-e7d0-b6d4be8cd5d6",
        "colab": {}
      },
      "cell_type": "code",
      "source": [
        "# Stacking of array\n",
        "\n",
        "X = np.arange(1,5).reshape(2,2)\n",
        "Y = np.arange(5,9).reshape(2,2)\n",
        "\n",
        "print(X)\n",
        "print(Y)"
      ],
      "execution_count": 0,
      "outputs": [
        {
          "output_type": "stream",
          "text": [
            "[[1 2]\n",
            " [3 4]]\n",
            "[[5 6]\n",
            " [7 8]]\n"
          ],
          "name": "stdout"
        }
      ]
    },
    {
      "metadata": {
        "id": "6shMYZpj6i8p",
        "colab_type": "code",
        "outputId": "6a5254fa-a161-4f68-d212-a7d7a24ce03a",
        "colab": {}
      },
      "cell_type": "code",
      "source": [
        "# Horizontal Stacking\n",
        "\n",
        "hstack = np.hstack([X,Y])\n",
        "print(hstack)\n",
        "print(hstack.shape)"
      ],
      "execution_count": 0,
      "outputs": [
        {
          "output_type": "stream",
          "text": [
            "[[1 2 5 6]\n",
            " [3 4 7 8]]\n",
            "(2, 4)\n"
          ],
          "name": "stdout"
        }
      ]
    },
    {
      "metadata": {
        "id": "EOnL-iGD6i8u",
        "colab_type": "code",
        "outputId": "77c91121-f981-4377-b46c-d6251e617726",
        "colab": {}
      },
      "cell_type": "code",
      "source": [
        "# Vertical Stacking\n",
        "\n",
        "vstack = np.vstack([X,Y])\n",
        "print(vstack)\n",
        "print(vstack.shape)"
      ],
      "execution_count": 0,
      "outputs": [
        {
          "output_type": "stream",
          "text": [
            "[[1 2]\n",
            " [3 4]\n",
            " [5 6]\n",
            " [7 8]]\n",
            "(4, 2)\n"
          ],
          "name": "stdout"
        }
      ]
    },
    {
      "metadata": {
        "id": "zYuLSoTs6i8x",
        "colab_type": "code",
        "colab": {}
      },
      "cell_type": "code",
      "source": [
        "# Concatenation of array\n",
        "v_con = np.concatenate((X,Y),axis=0)\n",
        "h_con = np.concatenate((X,Y),axis=1)"
      ],
      "execution_count": 0,
      "outputs": []
    },
    {
      "metadata": {
        "id": "HvqAzM5j6i80",
        "colab_type": "code",
        "outputId": "5a683638-7527-48f8-afa6-400df3503146",
        "colab": {}
      },
      "cell_type": "code",
      "source": [
        "print(h_con)\n",
        "print(v_con)"
      ],
      "execution_count": 0,
      "outputs": [
        {
          "output_type": "stream",
          "text": [
            "[[1 2 5 6]\n",
            " [3 4 7 8]]\n",
            "[[1 2]\n",
            " [3 4]\n",
            " [5 6]\n",
            " [7 8]]\n"
          ],
          "name": "stdout"
        }
      ]
    },
    {
      "metadata": {
        "id": "Nnia6vh76i8-",
        "colab_type": "code",
        "outputId": "abd155bf-a742-406d-bbd1-cb9df1924d71",
        "colab": {}
      },
      "cell_type": "code",
      "source": [
        "# Depth Stack\n",
        "dstack = np.dstack([X,Y])\n",
        "print(dstack)\n",
        "print(dstack.shape)"
      ],
      "execution_count": 0,
      "outputs": [
        {
          "output_type": "stream",
          "text": [
            "[[[1 5]\n",
            "  [2 6]]\n",
            "\n",
            " [[3 7]\n",
            "  [4 8]]]\n",
            "(2, 2, 2)\n"
          ],
          "name": "stdout"
        }
      ]
    },
    {
      "metadata": {
        "id": "DxpRuaF46i9D",
        "colab_type": "code",
        "colab": {}
      },
      "cell_type": "code",
      "source": [
        "# Matrix Multiplication\n",
        "matrix_1 = np.matrix(range(1,10)).reshape(3,3)\n",
        "matrix_2 = np.matrix(range(11,20)).reshape(3,3)"
      ],
      "execution_count": 0,
      "outputs": []
    },
    {
      "metadata": {
        "id": "vuDX_A6P6i9I",
        "colab_type": "code",
        "outputId": "5dcde02b-fcf8-494c-e6de-63c8cba12c2a",
        "colab": {}
      },
      "cell_type": "code",
      "source": [
        "print(matrix_1)\n",
        "print(matrix_2)\n",
        "print(matrix_1.shape)\n",
        "print(matrix_2.shape)"
      ],
      "execution_count": 0,
      "outputs": [
        {
          "output_type": "stream",
          "text": [
            "[[1 2 3]\n",
            " [4 5 6]\n",
            " [7 8 9]]\n",
            "[[11 12 13]\n",
            " [14 15 16]\n",
            " [17 18 19]]\n",
            "(3, 3)\n",
            "(3, 3)\n"
          ],
          "name": "stdout"
        }
      ]
    },
    {
      "metadata": {
        "id": "852HgVdB6i9N",
        "colab_type": "code",
        "outputId": "dc1ac9bc-f83c-43be-b9b6-29bd809ec367",
        "colab": {}
      },
      "cell_type": "code",
      "source": [
        "# Matrix Multiplication\n",
        "\n",
        "matrix_mul = matrix_1*matrix_2\n",
        "print(matrix_mul)"
      ],
      "execution_count": 0,
      "outputs": [
        {
          "output_type": "stream",
          "text": [
            "[[ 90  96 102]\n",
            " [216 231 246]\n",
            " [342 366 390]]\n"
          ],
          "name": "stdout"
        }
      ]
    },
    {
      "metadata": {
        "id": "6Oe23sT86i9R",
        "colab_type": "code",
        "outputId": "8c54d500-f4e9-4a4a-ec57-07440c49887d",
        "colab": {}
      },
      "cell_type": "code",
      "source": [
        "print(np.matmul(matrix_1,matrix_2))"
      ],
      "execution_count": 0,
      "outputs": [
        {
          "output_type": "stream",
          "text": [
            "[[ 90  96 102]\n",
            " [216 231 246]\n",
            " [342 366 390]]\n"
          ],
          "name": "stdout"
        }
      ]
    },
    {
      "metadata": {
        "id": "pzJM6K3_6i9V",
        "colab_type": "code",
        "outputId": "16043e4d-60ec-4b29-bc96-381b35965080",
        "colab": {}
      },
      "cell_type": "code",
      "source": [
        "# Array Mainuplation\n",
        "\n",
        "A = np.arange(1,10).reshape(3,3)\n",
        "print(A)"
      ],
      "execution_count": 0,
      "outputs": [
        {
          "output_type": "stream",
          "text": [
            "[[1 2 3]\n",
            " [4 5 6]\n",
            " [7 8 9]]\n"
          ],
          "name": "stdout"
        }
      ]
    },
    {
      "metadata": {
        "id": "I-LTU3_P6i9b",
        "colab_type": "code",
        "outputId": "4f60e7af-b2bf-4c42-f0c7-31f15879683a",
        "colab": {}
      },
      "cell_type": "code",
      "source": [
        "rav_arr = A.ravel()\n",
        "print(rav_arr)"
      ],
      "execution_count": 0,
      "outputs": [
        {
          "output_type": "stream",
          "text": [
            "[1 2 3 4 5 6 7 8 9]\n"
          ],
          "name": "stdout"
        }
      ]
    },
    {
      "metadata": {
        "id": "0Ykp_UJY6i9g",
        "colab_type": "code",
        "outputId": "eaf73ddd-fc63-4000-9c58-27a217fe6c88",
        "colab": {}
      },
      "cell_type": "code",
      "source": [
        "flat_arr = A.flatten()\n",
        "print(flat_arr)"
      ],
      "execution_count": 0,
      "outputs": [
        {
          "output_type": "stream",
          "text": [
            "[1 2 3 4 5 6 7 8 9]\n"
          ],
          "name": "stdout"
        }
      ]
    },
    {
      "metadata": {
        "id": "Skgw_4Av6i9k",
        "colab_type": "code",
        "outputId": "feaefec5-a4e1-4874-b204-679103d17212",
        "colab": {}
      },
      "cell_type": "code",
      "source": [
        "# Transpose Of Array\n",
        "transpose = A.T\n",
        "print(transpose)"
      ],
      "execution_count": 0,
      "outputs": [
        {
          "output_type": "stream",
          "text": [
            "[[1 4 7]\n",
            " [2 5 8]\n",
            " [3 6 9]]\n"
          ],
          "name": "stdout"
        }
      ]
    },
    {
      "metadata": {
        "id": "Kt4-ZaPd6i9m",
        "colab_type": "code",
        "outputId": "0761f05b-20fe-4925-d74d-b6da357a56f9",
        "colab": {}
      },
      "cell_type": "code",
      "source": [
        "# Resizing Of The Array\n",
        "\n",
        "resize_arr = np.resize(transpose,(1,12))\n",
        "print(resize_arr)"
      ],
      "execution_count": 0,
      "outputs": [
        {
          "output_type": "stream",
          "text": [
            "[[1 4 7 2 5 8 3 6 9 1 4 7]]\n"
          ],
          "name": "stdout"
        }
      ]
    },
    {
      "metadata": {
        "id": "7eA51a-Q6i9q",
        "colab_type": "code",
        "outputId": "d00dc124-6b38-4b9f-a9e6-0a345d6f680d",
        "colab": {}
      },
      "cell_type": "code",
      "source": [
        "# print minimum and maximum of an array\n",
        "\n",
        "print(np.min(transpose))\n",
        "print(np.max(transpose))"
      ],
      "execution_count": 0,
      "outputs": [
        {
          "output_type": "stream",
          "text": [
            "1\n",
            "9\n"
          ],
          "name": "stdout"
        }
      ]
    },
    {
      "metadata": {
        "id": "L_m0TomM6i9t",
        "colab_type": "code",
        "outputId": "777260e2-476c-4727-e6a4-67e9951feae3",
        "colab": {}
      },
      "cell_type": "code",
      "source": [
        "# create an array with similar interval\n",
        "\n",
        "P = np.linspace(1,10,4)\n",
        "print(P)"
      ],
      "execution_count": 0,
      "outputs": [
        {
          "output_type": "stream",
          "text": [
            "[ 1.  4.  7. 10.]\n"
          ],
          "name": "stdout"
        }
      ]
    }
  ]
}